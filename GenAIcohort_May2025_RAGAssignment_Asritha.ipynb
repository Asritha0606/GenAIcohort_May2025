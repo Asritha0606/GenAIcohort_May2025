{
  "cells": [
    {
      "cell_type": "markdown",
      "metadata": {
        "id": "view-in-github",
        "colab_type": "text"
      },
      "source": [
        "<a href=\"https://colab.research.google.com/github/Asritha0606/GenAIcohort_May2025/blob/main/GenAIcohort_May2025_RAGAssignment_Asritha.ipynb\" target=\"_parent\"><img src=\"https://colab.research.google.com/assets/colab-badge.svg\" alt=\"Open In Colab\"/></a>"
      ]
    },
    {
      "cell_type": "markdown",
      "metadata": {
        "id": "zVECDW8tzjYZ"
      },
      "source": [
        "RAG Assignment- FAQ Chatbot"
      ]
    },
    {
      "cell_type": "markdown",
      "metadata": {
        "id": "dFdV0WGgzu8Z"
      },
      "source": [
        "Problem Statement: Help General public understand the mission of Ayushman Bharat.\n",
        "\n",
        "Business Requirement: Develop an AI-powered assistant chatbot to help Government to enable instant resolution to public queries.\n"
      ]
    },
    {
      "cell_type": "markdown",
      "metadata": {
        "id": "hEbGe8pHgKSd"
      },
      "source": [
        "Install Required Packages"
      ]
    },
    {
      "cell_type": "code",
      "execution_count": null,
      "metadata": {
        "id": "kPvDxCzPgKSe"
      },
      "outputs": [],
      "source": [
        "!pip install -q langchain faiss-cpu gradio sentence-transformers groq langchain-groq langchain-community text-generation"
      ]
    },
    {
      "cell_type": "code",
      "execution_count": null,
      "metadata": {
        "id": "pZF3kSqHgKSe"
      },
      "outputs": [],
      "source": [
        "from langchain.vectorstores import FAISS\n",
        "from langchain.embeddings import HuggingFaceEmbeddings\n",
        "from langchain.text_splitter import RecursiveCharacterTextSplitter\n",
        "from langchain.document_loaders import TextLoader\n",
        "from langchain.chains import ConversationalRetrievalChain\n",
        "from langchain.memory import ConversationBufferWindowMemory\n",
        "from langchain_groq import ChatGroq\n",
        "from langchain.chains.combine_documents import create_stuff_documents_chain\n",
        "from langchain.chains import create_retrieval_chain, create_history_aware_retriever\n",
        "from langchain.prompts import PromptTemplate\n",
        "from langchain_core.prompts import ChatPromptTemplate, MessagesPlaceholder\n",
        "from langchain.memory import ConversationBufferWindowMemory\n",
        "import gradio as gr\n",
        "import re"
      ]
    },
    {
      "cell_type": "markdown",
      "metadata": {
        "id": "XbG7WnszgKSf"
      },
      "source": [
        "RAG + LLM + Memory + Guardrails + Cache"
      ]
    },
    {
      "cell_type": "markdown",
      "metadata": {
        "id": "pSDlxcF3gKSf"
      },
      "source": [
        "Load and split document"
      ]
    },
    {
      "cell_type": "code",
      "execution_count": null,
      "metadata": {
        "id": "yIEzE8CAgKSf"
      },
      "outputs": [],
      "source": [
        "loader = TextLoader(\"/content/AYUSHMAN BHARAT.txt\")\n",
        "docs = loader.load()"
      ]
    },
    {
      "cell_type": "code",
      "execution_count": null,
      "metadata": {
        "id": "k8JpM7irgKSf"
      },
      "outputs": [],
      "source": [
        "text_splitter = RecursiveCharacterTextSplitter(chunk_size=1000, chunk_overlap=100)\n",
        "chunks = text_splitter.split_documents(docs)"
      ]
    },
    {
      "cell_type": "markdown",
      "metadata": {
        "id": "40hY3dFZgKSf"
      },
      "source": [
        "Create embeddings and vector store"
      ]
    },
    {
      "cell_type": "code",
      "execution_count": null,
      "metadata": {
        "colab": {
          "base_uri": "https://localhost:8080/"
        },
        "id": "VQ3Z23MIihKT",
        "outputId": "65b44791-a6f7-467b-9da9-ed18ffa68eb2"
      },
      "outputs": [
        {
          "name": "stdout",
          "output_type": "stream",
          "text": [
            "\u001b[2K   \u001b[90m━━━━━━━━━━━━━━━━━━━━━━━━━━━━━━━━━━━━━━━━\u001b[0m \u001b[32m121.6/121.6 MB\u001b[0m \u001b[31m6.9 MB/s\u001b[0m eta \u001b[36m0:00:00\u001b[0m\n",
            "\u001b[?25h"
          ]
        }
      ],
      "source": [
        "!pip install -q gpt4all"
      ]
    },
    {
      "cell_type": "code",
      "execution_count": null,
      "metadata": {
        "id": "aRy1mJSuic9c"
      },
      "outputs": [],
      "source": [
        "# from langchain.embeddings import GPT4AllEmbeddings\n",
        "\n",
        "# embeddings = GPT4AllEmbeddings()\n"
      ]
    },
    {
      "cell_type": "code",
      "execution_count": null,
      "metadata": {
        "colab": {
          "base_uri": "https://localhost:8080/"
        },
        "id": "WZEiBmeexaFf",
        "outputId": "15405b85-8619-4349-8b4f-080dcdea8d40"
      },
      "outputs": [
        {
          "name": "stderr",
          "output_type": "stream",
          "text": [
            "/tmp/ipython-input-7-3409896792.py:1: LangChainDeprecationWarning: The class `HuggingFaceEmbeddings` was deprecated in LangChain 0.2.2 and will be removed in 1.0. An updated version of the class exists in the :class:`~langchain-huggingface package and should be used instead. To use it run `pip install -U :class:`~langchain-huggingface` and import as `from :class:`~langchain_huggingface import HuggingFaceEmbeddings``.\n",
            "  embeddings = HuggingFaceEmbeddings(model_name=\"sentence-transformers/all-MiniLM-L6-v2\")\n"
          ]
        }
      ],
      "source": [
        "embeddings = HuggingFaceEmbeddings(model_name=\"sentence-transformers/all-MiniLM-L6-v2\")"
      ]
    },
    {
      "cell_type": "code",
      "execution_count": null,
      "metadata": {
        "id": "KNbz0szkgKSf"
      },
      "outputs": [],
      "source": [
        "#embeddings = HuggingFaceEmbeddings(model_name=\"sentence-transformers/all-MiniLM-L6-v2\")\n",
        "vectorstore = FAISS.from_documents(chunks, embeddings)\n",
        "retriever = vectorstore.as_retriever(search_kwargs={\"k\": 3})"
      ]
    },
    {
      "cell_type": "code",
      "execution_count": null,
      "metadata": {
        "id": "Dayh6WAxgKSg"
      },
      "outputs": [],
      "source": [
        "import os\n",
        "from google.colab import userdata\n",
        "groq_api_key = userdata.get('groq_api')\n",
        "os.environ[\"GROQ_API_KEY\"] = groq_api_key"
      ]
    },
    {
      "cell_type": "code",
      "execution_count": null,
      "metadata": {
        "id": "TRPysYaagKSg"
      },
      "outputs": [],
      "source": [
        "llm = ChatGroq(model=\"llama-3.3-70b-versatile\", temperature=0)"
      ]
    },
    {
      "cell_type": "markdown",
      "metadata": {
        "id": "IJvpa_ncgKSg"
      },
      "source": [
        "Memory for 3-turn history"
      ]
    },
    {
      "cell_type": "code",
      "execution_count": null,
      "metadata": {
        "colab": {
          "base_uri": "https://localhost:8080/"
        },
        "id": "Y_KArK9WgKSg",
        "outputId": "6a6258a5-f1ff-40f9-9e6e-87db81d2dad7"
      },
      "outputs": [
        {
          "name": "stderr",
          "output_type": "stream",
          "text": [
            "/tmp/ipython-input-11-2011558429.py:1: LangChainDeprecationWarning: Please see the migration guide at: https://python.langchain.com/docs/versions/migrating_memory/\n",
            "  memory = ConversationBufferWindowMemory(k=3, return_messages=True)\n"
          ]
        }
      ],
      "source": [
        "memory = ConversationBufferWindowMemory(k=3, return_messages=True)"
      ]
    },
    {
      "cell_type": "markdown",
      "metadata": {
        "id": "n9gYvlA1gKSg"
      },
      "source": [
        "RAG QA Chain"
      ]
    },
    {
      "cell_type": "code",
      "execution_count": null,
      "metadata": {
        "id": "iLLa4OnIgKSg"
      },
      "outputs": [],
      "source": [
        "\n",
        "# Step 1: Question rephrasing prompt\n",
        "question_prompt = ChatPromptTemplate.from_messages([\n",
        "    (\"system\", \"You are a helpful assistant for answering questions about Ayushman Bharat.\"),\n",
        "    MessagesPlaceholder(variable_name=\"chat_history\"),\n",
        "    (\"human\", \"{input}\"),\n",
        "    (\"human\", \"Given the above conversation, generate a search query for relevant information:\")\n",
        "])\n",
        "\n",
        "# Step 2: History-aware retriever (rephrases the query using memory)\n",
        "retriever_with_context = create_history_aware_retriever(\n",
        "    llm=llm,\n",
        "    retriever=retriever,\n",
        "    prompt=question_prompt\n",
        ")\n",
        "\n",
        "\n",
        "qa_prompt = ChatPromptTemplate.from_messages([\n",
        "    (\"system\", \"You are an expert assistant answering public queries about Ayushman Bharat.\"),\n",
        "    MessagesPlaceholder(variable_name=\"chat_history\"),\n",
        "    (\"system\", \"{context}\"),\n",
        "    (\"human\", \"{input}\")\n",
        "])\n",
        "\n",
        "\n",
        "# Step 4: Document answer chain\n",
        "document_chain = create_stuff_documents_chain(\n",
        "    llm=llm,\n",
        "    prompt=qa_prompt\n",
        ")\n",
        "\n",
        "# Step 5: Final RAG chain\n",
        "qa_chain = create_retrieval_chain(\n",
        "    retriever=retriever_with_context,\n",
        "    combine_docs_chain=document_chain\n",
        ")\n"
      ]
    },
    {
      "cell_type": "markdown",
      "metadata": {
        "id": "cFVyCe5_gKSg"
      },
      "source": [
        "Domain guardrails"
      ]
    },
    {
      "cell_type": "code",
      "execution_count": null,
      "metadata": {
        "id": "DCwpzIzBgKSg"
      },
      "outputs": [],
      "source": [
        "domain_keywords = [\n",
        "    \"ayushman bharat\", \"ayushman\", \"bharat\",\n",
        "    \"health\", \"healthcare\", \"hospitals\",\n",
        "    \"nhm\", \"pmjay\", \"hwc\", \"insurance\"\n",
        "]\n",
        "\n",
        "def is_in_domain(query: str) -> bool:\n",
        "    query = query.lower()\n",
        "    return any(keyword in query for keyword in domain_keywords)\n"
      ]
    },
    {
      "cell_type": "markdown",
      "metadata": {
        "id": "PwDyaZzJgKSg"
      },
      "source": [
        "In-memory cache"
      ]
    },
    {
      "cell_type": "code",
      "execution_count": null,
      "metadata": {
        "id": "UpFTwafaoCWF"
      },
      "outputs": [],
      "source": [
        "query_cache = {}\n",
        "\n",
        "def chat_interface(query, chat_history):\n",
        "    print(\"Incoming query:\", query)\n",
        "\n",
        "    # Extract history in LangChain-compatible format\n",
        "    formatted_history = [(user, bot) for user, bot in chat_history[-3:]]\n",
        "\n",
        "    print(\"Formatted history for RAG:\", formatted_history)\n",
        "\n",
        "    if not is_in_domain(query):\n",
        "        return chat_history + [[query, \"❌ Sorry, I can only answer questions about Ayushman Bharat and healthcare topics.\"]]\n",
        "\n",
        "    if query in query_cache:\n",
        "        return chat_history + [[query, f\"✅ Cached: {query_cache[query]}\"]]\n",
        "\n",
        "    result = qa_chain.invoke({\n",
        "        \"input\": query,\n",
        "        \"chat_history\": formatted_history  # ✅ Manual memory\n",
        "    })\n",
        "\n",
        "    answer = result[\"answer\"]\n",
        "    query_cache[query] = answer\n",
        "\n",
        "    return chat_history + [[query, answer]]\n"
      ]
    },
    {
      "cell_type": "markdown",
      "metadata": {
        "id": "AWdqArAsgKSh"
      },
      "source": [
        "Launch Gradio Chat UI"
      ]
    },
    {
      "cell_type": "code",
      "execution_count": null,
      "metadata": {
        "colab": {
          "base_uri": "https://localhost:8080/"
        },
        "id": "YQ_SaV_MgKSh",
        "outputId": "5fffb47e-e025-4dea-98a5-1bec445b0883"
      },
      "outputs": [
        {
          "name": "stderr",
          "output_type": "stream",
          "text": [
            "/tmp/ipython-input-15-3112454794.py:3: UserWarning: You have not specified a value for the `type` parameter. Defaulting to the 'tuples' format for chatbot messages, but this is deprecated and will be removed in a future version of Gradio. Please set type='messages' instead, which uses openai-style dictionaries with 'role' and 'content' keys.\n",
            "  chatbot = gr.Chatbot()\n"
          ]
        }
      ],
      "source": [
        "with gr.Blocks() as demo:\n",
        "    gr.Markdown(\"### 🤖 Ayushman Bharat FAQ Chatbot\")\n",
        "    chatbot = gr.Chatbot()\n",
        "    msg = gr.Textbox(placeholder=\"Ask about Ayushman Bharat...\")\n",
        "    clear = gr.Button(\"Clear\")\n",
        "\n",
        "    state = gr.State([])\n",
        "\n",
        "    # def user_interaction(user_message, chat_history):\n",
        "    #     return chat_interface(user_message, chat_history)\n",
        "    def user_interaction(user_message, chat_history):\n",
        "        updated_history = chat_interface(user_message, chat_history)\n",
        "        return updated_history, updated_history  # ✅ return to both chatbot and state\n",
        "\n",
        "\n",
        "    msg.submit(user_interaction, [msg, state], [chatbot, state])\n",
        "    msg.submit(lambda: \"\", None, msg)\n",
        "    clear.click(lambda: [], None, chatbot)\n",
        "\n"
      ]
    },
    {
      "cell_type": "code",
      "execution_count": null,
      "metadata": {
        "colab": {
          "background_save": true,
          "base_uri": "https://localhost:8080/",
          "height": 646
        },
        "id": "832pdUCHgKSh",
        "outputId": "850910c6-1030-47ec-cc2a-91bbc312a799"
      },
      "outputs": [
        {
          "name": "stdout",
          "output_type": "stream",
          "text": [
            "It looks like you are running Gradio on a hosted a Jupyter notebook. For the Gradio app to work, sharing must be enabled. Automatically setting `share=True` (you can turn this off by setting `share=False` in `launch()` explicitly).\n",
            "\n",
            "Colab notebook detected. This cell will run indefinitely so that you can see errors and logs. To turn off, set debug=False in launch().\n",
            "* Running on public URL: https://65ab8aec8a0a72d3d0.gradio.live\n",
            "\n",
            "This share link expires in 1 week. For free permanent hosting and GPU upgrades, run `gradio deploy` from the terminal in the working directory to deploy to Hugging Face Spaces (https://huggingface.co/spaces)\n"
          ]
        },
        {
          "data": {
            "text/html": [
              "<div><iframe src=\"https://65ab8aec8a0a72d3d0.gradio.live\" width=\"100%\" height=\"500\" allow=\"autoplay; camera; microphone; clipboard-read; clipboard-write;\" frameborder=\"0\" allowfullscreen></iframe></div>"
            ],
            "text/plain": [
              "<IPython.core.display.HTML object>"
            ]
          },
          "metadata": {},
          "output_type": "display_data"
        }
      ],
      "source": [
        "demo.launch(debug=True)"
      ]
    },
    {
      "cell_type": "code",
      "execution_count": null,
      "metadata": {
        "id": "Z-Mc_c25CyzT"
      },
      "outputs": [],
      "source": [
        "!pip install evaluate"
      ]
    },
    {
      "cell_type": "code",
      "execution_count": null,
      "metadata": {
        "id": "fmUYRMMngHww"
      },
      "outputs": [],
      "source": [
        "import evaluate\n",
        "from sentence_transformers import SentenceTransformer, util\n",
        "\n",
        "# Load evaluation models\n",
        "bleu = evaluate.load(\"bleu\")\n",
        "rouge = evaluate.load(\"rouge\")\n",
        "embedding_model = SentenceTransformer(\"all-MiniLM-L6-v2\")\n",
        "\n",
        "# Example test set (use your real samples)\n",
        "evaluation_data = [\n",
        "    {\n",
        "        \"question\": \"What is Ayushman Bharat?\",\n",
        "        \"reference_answer\": \"Ayushman Bharat is a flagship scheme by the Government of India aimed at providing universal health coverage through Health and Wellness Centres and PMJAY.\",\n",
        "    },\n",
        "    {\n",
        "        \"question\": \"What are Health and Wellness Centres?\",\n",
        "        \"reference_answer\": \"They are primary care centres under Ayushman Bharat providing comprehensive healthcare including preventive, promotive, and curative services.\"\n",
        "    },\n",
        "]\n",
        "\n",
        "# Run through your RAG system to generate predictions\n",
        "predictions = []\n",
        "references = []\n",
        "cosine_scores = []\n",
        "\n",
        "for example in evaluation_data:\n",
        "    question = example[\"question\"]\n",
        "    reference = example[\"reference_answer\"]\n",
        "\n",
        "    # Get prediction from your RAG pipeline\n",
        "    result = rag_chain({\n",
        "        \"question\": question,\n",
        "        \"chat_history\": []  # Empty or your controlled past context\n",
        "    })\n",
        "    prediction = result[\"answer\"]\n",
        "\n",
        "    # Save for BLEU/ROUGE\n",
        "    predictions.append(prediction)\n",
        "    references.append(reference)\n",
        "\n",
        "    # Compute cosine similarity\n",
        "    emb_ref = embedding_model.encode(reference, convert_to_tensor=True)\n",
        "    emb_pred = embedding_model.encode(prediction, convert_to_tensor=True)\n",
        "    cosine_score = util.cos_sim(emb_pred, emb_ref).item()\n",
        "    cosine_scores.append(cosine_score)\n",
        "\n",
        "    print(f\"Q: {question}\\n🧠 Reference: {reference}\\n🤖 Prediction: {prediction}\\n🔗 Cosine Similarity: {cosine_score:.4f}\\n{'-'*70}\")\n",
        "\n",
        "# BLEU\n",
        "bleu_score = bleu.compute(predictions=predictions, references=[[ref] for ref in references])\n",
        "print(\"🎯 BLEU Score:\", bleu_score)\n",
        "\n",
        "# ROUGE\n",
        "rouge_score = rouge.compute(predictions=predictions, references=references)\n",
        "print(\"📝 ROUGE Score:\", rouge_score)\n",
        "\n",
        "# Cosine Score Summary\n",
        "average_cosine = sum(cosine_scores) / len(cosine_scores)\n",
        "print(f\"🔗 Avg Cosine Similarity: {average_cosine:.4f}\")\n"
      ]
    }
  ],
  "metadata": {
    "colab": {
      "provenance": [],
      "include_colab_link": true
    },
    "kernelspec": {
      "display_name": "Python 3",
      "name": "python3"
    },
    "language_info": {
      "name": "python"
    }
  },
  "nbformat": 4,
  "nbformat_minor": 0
}