{
  "cells": [
    {
      "cell_type": "markdown",
      "metadata": {
        "id": "view-in-github",
        "colab_type": "text"
      },
      "source": [
        "<a href=\"https://colab.research.google.com/github/Asritha0606/GenAIcohort_May2025/blob/main/GenAIcohort_May2025_RAGAssignment_Asritha.ipynb\" target=\"_parent\"><img src=\"https://colab.research.google.com/assets/colab-badge.svg\" alt=\"Open In Colab\"/></a>"
      ]
    },
    {
      "cell_type": "markdown",
      "metadata": {
        "id": "hEbGe8pHgKSd"
      },
      "source": [
        "Install Required Packages"
      ]
    },
    {
      "cell_type": "code",
      "execution_count": null,
      "metadata": {
        "id": "kPvDxCzPgKSe"
      },
      "outputs": [],
      "source": [
        "!pip install -q langchain faiss-cpu gradio sentence-transformers groq langchain-groq langchain-community text-generation"
      ]
    },
    {
      "cell_type": "code",
      "execution_count": null,
      "metadata": {
        "id": "pZF3kSqHgKSe"
      },
      "outputs": [],
      "source": [
        "from langchain.vectorstores import FAISS\n",
        "from langchain.embeddings import HuggingFaceEmbeddings\n",
        "from langchain.text_splitter import RecursiveCharacterTextSplitter\n",
        "from langchain.document_loaders import TextLoader\n",
        "from langchain.chains import ConversationalRetrievalChain\n",
        "from langchain.memory import ConversationBufferWindowMemory\n",
        "from langchain_groq import ChatGroq\n",
        "from langchain.chains.combine_documents import create_stuff_documents_chain\n",
        "from langchain.chains import create_retrieval_chain, create_history_aware_retriever\n",
        "from langchain.prompts import PromptTemplate\n",
        "from langchain_core.prompts import ChatPromptTemplate, MessagesPlaceholder\n",
        "from langchain.memory import ConversationBufferWindowMemory\n",
        "import gradio as gr\n",
        "import re"
      ]
    },
    {
      "cell_type": "markdown",
      "metadata": {
        "id": "XbG7WnszgKSf"
      },
      "source": [
        "RAG + LLM + Memory + Guardrails + Cache"
      ]
    },
    {
      "cell_type": "markdown",
      "metadata": {
        "id": "pSDlxcF3gKSf"
      },
      "source": [
        "Load and split document"
      ]
    },
    {
      "cell_type": "code",
      "execution_count": null,
      "metadata": {
        "id": "yIEzE8CAgKSf"
      },
      "outputs": [],
      "source": [
        "loader = TextLoader(\"/content/AYUSHMAN BHARAT.txt\")\n",
        "docs = loader.load()"
      ]
    },
    {
      "cell_type": "code",
      "execution_count": null,
      "metadata": {
        "id": "k8JpM7irgKSf"
      },
      "outputs": [],
      "source": [
        "text_splitter = RecursiveCharacterTextSplitter(chunk_size=1000, chunk_overlap=100)\n",
        "chunks = text_splitter.split_documents(docs)"
      ]
    },
    {
      "cell_type": "markdown",
      "metadata": {
        "id": "40hY3dFZgKSf"
      },
      "source": [
        "Create embeddings and vector store"
      ]
    },
    {
      "cell_type": "code",
      "execution_count": null,
      "metadata": {
        "id": "KNbz0szkgKSf"
      },
      "outputs": [],
      "source": [
        "embeddings = HuggingFaceEmbeddings(model_name=\"sentence-transformers/all-MiniLM-L6-v2\")\n",
        "vectorstore = FAISS.from_documents(chunks, embeddings)\n",
        "retriever = vectorstore.as_retriever(search_kwargs={\"k\": 3})"
      ]
    },
    {
      "cell_type": "code",
      "execution_count": null,
      "metadata": {
        "id": "Dayh6WAxgKSg"
      },
      "outputs": [],
      "source": [
        "import os\n",
        "from google.colab import userdata\n",
        "groq_api_key = userdata.get('groq_api')\n",
        "os.environ[\"GROQ_API_KEY\"] = groq_api_key"
      ]
    },
    {
      "cell_type": "code",
      "execution_count": null,
      "metadata": {
        "id": "TRPysYaagKSg"
      },
      "outputs": [],
      "source": [
        "llm = ChatGroq(model=\"llama-3.3-70b-versatile\", temperature=0)"
      ]
    },
    {
      "cell_type": "markdown",
      "metadata": {
        "id": "IJvpa_ncgKSg"
      },
      "source": [
        "Memory for 3-turn history"
      ]
    },
    {
      "cell_type": "code",
      "execution_count": null,
      "metadata": {
        "id": "Y_KArK9WgKSg"
      },
      "outputs": [],
      "source": [
        "memory = ConversationBufferWindowMemory(k=3, return_messages=True)"
      ]
    },
    {
      "cell_type": "markdown",
      "metadata": {
        "id": "n9gYvlA1gKSg"
      },
      "source": [
        "RAG QA Chain"
      ]
    },
    {
      "cell_type": "code",
      "execution_count": null,
      "metadata": {
        "id": "iLLa4OnIgKSg"
      },
      "outputs": [],
      "source": [
        "\n",
        "# Step 1: Question rephrasing prompt\n",
        "question_prompt = ChatPromptTemplate.from_messages([\n",
        "    (\"system\", \"You are a helpful assistant for answering questions about Ayushman Bharat.\"),\n",
        "    MessagesPlaceholder(variable_name=\"chat_history\"),\n",
        "    (\"human\", \"{input}\"),\n",
        "    (\"human\", \"Given the above conversation, generate a search query for relevant information:\")\n",
        "])\n",
        "\n",
        "# Step 2: History-aware retriever (rephrases the query using memory)\n",
        "retriever_with_context = create_history_aware_retriever(\n",
        "    llm=llm,\n",
        "    retriever=retriever,\n",
        "    prompt=question_prompt\n",
        ")\n",
        "\n",
        "# Step 3:  Include {context} in the answer generation prompt\n",
        "qa_prompt = ChatPromptTemplate.from_messages([\n",
        "    (\"system\", \"You are an expert assistant answering public queries about Ayushman Bharat using the following context:\\n\\n{context}\"),\n",
        "    MessagesPlaceholder(variable_name=\"chat_history\"),\n",
        "    (\"human\", \"{input}\")\n",
        "])\n",
        "\n",
        "# Step 4: Document answer chain\n",
        "document_chain = create_stuff_documents_chain(\n",
        "    llm=llm,\n",
        "    prompt=qa_prompt\n",
        ")\n",
        "\n",
        "# Step 5: Final RAG chain\n",
        "qa_chain = create_retrieval_chain(\n",
        "    retriever=retriever_with_context,\n",
        "    combine_docs_chain=document_chain\n",
        ")\n"
      ]
    },
    {
      "cell_type": "markdown",
      "metadata": {
        "id": "cFVyCe5_gKSg"
      },
      "source": [
        "Domain guardrails"
      ]
    },
    {
      "cell_type": "code",
      "execution_count": null,
      "metadata": {
        "id": "DCwpzIzBgKSg"
      },
      "outputs": [],
      "source": [
        "domain_keywords = [\n",
        "    \"ayushman bharat\", \"ayushman\", \"bharat\",\n",
        "    \"health\", \"healthcare\", \"hospitals\",\n",
        "    \"nhm\", \"pmjay\", \"hwc\", \"insurance\"\n",
        "]\n",
        "\n",
        "def is_in_domain(query: str) -> bool:\n",
        "    query = query.lower()\n",
        "    return any(keyword in query for keyword in domain_keywords)\n"
      ]
    },
    {
      "cell_type": "markdown",
      "metadata": {
        "id": "PwDyaZzJgKSg"
      },
      "source": [
        "In-memory cache"
      ]
    },
    {
      "cell_type": "code",
      "execution_count": null,
      "metadata": {
        "id": "8W5RHeTIgKSg"
      },
      "outputs": [],
      "source": [
        "query_cache = {}\n",
        "\n",
        "def chat_interface(query, chat_history):\n",
        "    print(\"Incoming query:\", query)\n",
        "    print(\"Chat history:\", chat_history)\n",
        "\n",
        "    if not is_in_domain(query):\n",
        "        return chat_history + [[query, \"❌ Sorry, I can only answer questions about Ayushman Bharat and healthcare topics.\"]]\n",
        "\n",
        "    if query in query_cache:\n",
        "        return chat_history + [[query, f\"✅ Cached: {query_cache[query]}\"]]\n",
        "\n",
        "    # ✅ Correct input format for create_retrieval_chain()\n",
        "    result = qa_chain.invoke({\n",
        "        \"input\": query,\n",
        "        \"chat_history\": memory.chat_memory.messages  # this is what the chain uses internally\n",
        "    })\n",
        "\n",
        "    answer = result[\"answer\"]\n",
        "    query_cache[query] = answer\n",
        "    return chat_history + [[query, answer]]\n"
      ]
    },
    {
      "cell_type": "markdown",
      "metadata": {
        "id": "AWdqArAsgKSh"
      },
      "source": [
        "Launch Gradio Chat UI"
      ]
    },
    {
      "cell_type": "code",
      "execution_count": null,
      "metadata": {
        "id": "YQ_SaV_MgKSh"
      },
      "outputs": [],
      "source": [
        "with gr.Blocks() as demo:\n",
        "    gr.Markdown(\"### 🤖 Ayushman Bharat FAQ Chatbot\")\n",
        "    chatbot = gr.Chatbot()\n",
        "    msg = gr.Textbox(placeholder=\"Ask about Ayushman Bharat...\")\n",
        "    clear = gr.Button(\"Clear\")\n",
        "\n",
        "    state = gr.State([])\n",
        "\n",
        "    def user_interaction(user_message, chat_history):\n",
        "        return chat_interface(user_message, chat_history)\n",
        "\n",
        "    msg.submit(user_interaction, [msg, state], [chatbot])\n",
        "    msg.submit(lambda: \"\", None, msg)\n",
        "    clear.click(lambda: [], None, chatbot)\n",
        "\n"
      ]
    },
    {
      "cell_type": "code",
      "execution_count": null,
      "metadata": {
        "id": "832pdUCHgKSh"
      },
      "outputs": [],
      "source": [
        "demo.launch(debug=True)"
      ]
    }
  ],
  "metadata": {
    "colab": {
      "provenance": [],
      "include_colab_link": true
    },
    "language_info": {
      "name": "python"
    },
    "kernelspec": {
      "name": "python3",
      "display_name": "Python 3"
    }
  },
  "nbformat": 4,
  "nbformat_minor": 0
}